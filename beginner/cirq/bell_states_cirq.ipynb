{
  "nbformat": 4,
  "nbformat_minor": 0,
  "metadata": {
    "colab": {
      "provenance": []
    },
    "kernelspec": {
      "name": "python3",
      "display_name": "Python 3"
    },
    "language_info": {
      "name": "python"
    }
  },
  "cells": [
    {
      "cell_type": "code",
      "execution_count": null,
      "metadata": {
        "colab": {
          "base_uri": "https://localhost:8080/"
        },
        "id": "TWA17wlLOtUe",
        "outputId": "cb841b4e-b851-49db-b351-f79bb38f2ca7"
      },
      "outputs": [
        {
          "output_type": "stream",
          "name": "stdout",
          "text": [
            "Collecting cirq\n",
            "  Downloading cirq-1.5.0-py3-none-any.whl.metadata (15 kB)\n",
            "Collecting cirq-aqt==1.5.0 (from cirq)\n",
            "  Downloading cirq_aqt-1.5.0-py3-none-any.whl.metadata (4.8 kB)\n",
            "Collecting cirq-core==1.5.0 (from cirq)\n",
            "  Downloading cirq_core-1.5.0-py3-none-any.whl.metadata (4.9 kB)\n",
            "Collecting cirq-google==1.5.0 (from cirq)\n",
            "  Downloading cirq_google-1.5.0-py3-none-any.whl.metadata (4.9 kB)\n",
            "Collecting cirq-ionq==1.5.0 (from cirq)\n",
            "  Downloading cirq_ionq-1.5.0-py3-none-any.whl.metadata (4.7 kB)\n",
            "Collecting cirq-pasqal==1.5.0 (from cirq)\n",
            "  Downloading cirq_pasqal-1.5.0-py3-none-any.whl.metadata (4.8 kB)\n",
            "Collecting cirq-web==1.5.0 (from cirq)\n",
            "  Downloading cirq_web-1.5.0-py3-none-any.whl.metadata (5.5 kB)\n",
            "Requirement already satisfied: requests~=2.32 in /usr/local/lib/python3.11/dist-packages (from cirq-aqt==1.5.0->cirq) (2.32.3)\n",
            "Requirement already satisfied: attrs>=21.3.0 in /usr/local/lib/python3.11/dist-packages (from cirq-core==1.5.0->cirq) (25.3.0)\n",
            "Collecting duet>=0.2.8 (from cirq-core==1.5.0->cirq)\n",
            "  Downloading duet-0.2.9-py3-none-any.whl.metadata (2.3 kB)\n",
            "Requirement already satisfied: matplotlib~=3.7 in /usr/local/lib/python3.11/dist-packages (from cirq-core==1.5.0->cirq) (3.10.0)\n",
            "Requirement already satisfied: networkx~=3.1 in /usr/local/lib/python3.11/dist-packages (from cirq-core==1.5.0->cirq) (3.4.2)\n",
            "Requirement already satisfied: numpy>=1.25 in /usr/local/lib/python3.11/dist-packages (from cirq-core==1.5.0->cirq) (2.0.2)\n",
            "Requirement already satisfied: pandas~=2.0 in /usr/local/lib/python3.11/dist-packages (from cirq-core==1.5.0->cirq) (2.2.2)\n",
            "Requirement already satisfied: sortedcontainers~=2.0 in /usr/local/lib/python3.11/dist-packages (from cirq-core==1.5.0->cirq) (2.4.0)\n",
            "Requirement already satisfied: scipy~=1.11 in /usr/local/lib/python3.11/dist-packages (from cirq-core==1.5.0->cirq) (1.15.3)\n",
            "Requirement already satisfied: sympy in /usr/local/lib/python3.11/dist-packages (from cirq-core==1.5.0->cirq) (1.13.1)\n",
            "Requirement already satisfied: typing_extensions>=4.2 in /usr/local/lib/python3.11/dist-packages (from cirq-core==1.5.0->cirq) (4.13.2)\n",
            "Requirement already satisfied: tqdm>=4.12 in /usr/local/lib/python3.11/dist-packages (from cirq-core==1.5.0->cirq) (4.67.1)\n",
            "Requirement already satisfied: google-api-core>=1.14.0 in /usr/local/lib/python3.11/dist-packages (from google-api-core[grpc]>=1.14.0->cirq-google==1.5.0->cirq) (2.24.2)\n",
            "Requirement already satisfied: proto-plus>=1.20.0 in /usr/local/lib/python3.11/dist-packages (from cirq-google==1.5.0->cirq) (1.26.1)\n",
            "Requirement already satisfied: protobuf<6.0,>=4.25 in /usr/local/lib/python3.11/dist-packages (from cirq-google==1.5.0->cirq) (5.29.4)\n",
            "Collecting typedunits (from cirq-google==1.5.0->cirq)\n",
            "  Downloading typedunits-0.0.1.dev20250509200845-cp311-cp311-manylinux_2_17_x86_64.manylinux2014_x86_64.whl.metadata (4.8 kB)\n",
            "Requirement already satisfied: googleapis-common-protos<2.0.0,>=1.56.2 in /usr/local/lib/python3.11/dist-packages (from google-api-core>=1.14.0->google-api-core[grpc]>=1.14.0->cirq-google==1.5.0->cirq) (1.70.0)\n",
            "Requirement already satisfied: google-auth<3.0.0,>=2.14.1 in /usr/local/lib/python3.11/dist-packages (from google-api-core>=1.14.0->google-api-core[grpc]>=1.14.0->cirq-google==1.5.0->cirq) (2.38.0)\n",
            "Requirement already satisfied: grpcio<2.0dev,>=1.33.2 in /usr/local/lib/python3.11/dist-packages (from google-api-core[grpc]>=1.14.0->cirq-google==1.5.0->cirq) (1.71.0)\n",
            "Requirement already satisfied: grpcio-status<2.0.dev0,>=1.33.2 in /usr/local/lib/python3.11/dist-packages (from google-api-core[grpc]>=1.14.0->cirq-google==1.5.0->cirq) (1.71.0)\n",
            "Requirement already satisfied: contourpy>=1.0.1 in /usr/local/lib/python3.11/dist-packages (from matplotlib~=3.7->cirq-core==1.5.0->cirq) (1.3.2)\n",
            "Requirement already satisfied: cycler>=0.10 in /usr/local/lib/python3.11/dist-packages (from matplotlib~=3.7->cirq-core==1.5.0->cirq) (0.12.1)\n",
            "Requirement already satisfied: fonttools>=4.22.0 in /usr/local/lib/python3.11/dist-packages (from matplotlib~=3.7->cirq-core==1.5.0->cirq) (4.58.0)\n",
            "Requirement already satisfied: kiwisolver>=1.3.1 in /usr/local/lib/python3.11/dist-packages (from matplotlib~=3.7->cirq-core==1.5.0->cirq) (1.4.8)\n",
            "Requirement already satisfied: packaging>=20.0 in /usr/local/lib/python3.11/dist-packages (from matplotlib~=3.7->cirq-core==1.5.0->cirq) (24.2)\n",
            "Requirement already satisfied: pillow>=8 in /usr/local/lib/python3.11/dist-packages (from matplotlib~=3.7->cirq-core==1.5.0->cirq) (11.2.1)\n",
            "Requirement already satisfied: pyparsing>=2.3.1 in /usr/local/lib/python3.11/dist-packages (from matplotlib~=3.7->cirq-core==1.5.0->cirq) (3.2.3)\n",
            "Requirement already satisfied: python-dateutil>=2.7 in /usr/local/lib/python3.11/dist-packages (from matplotlib~=3.7->cirq-core==1.5.0->cirq) (2.9.0.post0)\n",
            "Requirement already satisfied: pytz>=2020.1 in /usr/local/lib/python3.11/dist-packages (from pandas~=2.0->cirq-core==1.5.0->cirq) (2025.2)\n",
            "Requirement already satisfied: tzdata>=2022.7 in /usr/local/lib/python3.11/dist-packages (from pandas~=2.0->cirq-core==1.5.0->cirq) (2025.2)\n",
            "Requirement already satisfied: charset-normalizer<4,>=2 in /usr/local/lib/python3.11/dist-packages (from requests~=2.32->cirq-aqt==1.5.0->cirq) (3.4.2)\n",
            "Requirement already satisfied: idna<4,>=2.5 in /usr/local/lib/python3.11/dist-packages (from requests~=2.32->cirq-aqt==1.5.0->cirq) (3.10)\n",
            "Requirement already satisfied: urllib3<3,>=1.21.1 in /usr/local/lib/python3.11/dist-packages (from requests~=2.32->cirq-aqt==1.5.0->cirq) (2.4.0)\n",
            "Requirement already satisfied: certifi>=2017.4.17 in /usr/local/lib/python3.11/dist-packages (from requests~=2.32->cirq-aqt==1.5.0->cirq) (2025.4.26)\n",
            "Requirement already satisfied: mpmath<1.4,>=1.1.0 in /usr/local/lib/python3.11/dist-packages (from sympy->cirq-core==1.5.0->cirq) (1.3.0)\n",
            "Requirement already satisfied: cython>=3.0.0 in /usr/local/lib/python3.11/dist-packages (from typedunits->cirq-google==1.5.0->cirq) (3.0.12)\n",
            "Requirement already satisfied: cachetools<6.0,>=2.0.0 in /usr/local/lib/python3.11/dist-packages (from google-auth<3.0.0,>=2.14.1->google-api-core>=1.14.0->google-api-core[grpc]>=1.14.0->cirq-google==1.5.0->cirq) (5.5.2)\n",
            "Requirement already satisfied: pyasn1-modules>=0.2.1 in /usr/local/lib/python3.11/dist-packages (from google-auth<3.0.0,>=2.14.1->google-api-core>=1.14.0->google-api-core[grpc]>=1.14.0->cirq-google==1.5.0->cirq) (0.4.2)\n",
            "Requirement already satisfied: rsa<5,>=3.1.4 in /usr/local/lib/python3.11/dist-packages (from google-auth<3.0.0,>=2.14.1->google-api-core>=1.14.0->google-api-core[grpc]>=1.14.0->cirq-google==1.5.0->cirq) (4.9.1)\n",
            "Requirement already satisfied: six>=1.5 in /usr/local/lib/python3.11/dist-packages (from python-dateutil>=2.7->matplotlib~=3.7->cirq-core==1.5.0->cirq) (1.17.0)\n",
            "Requirement already satisfied: pyasn1<0.7.0,>=0.6.1 in /usr/local/lib/python3.11/dist-packages (from pyasn1-modules>=0.2.1->google-auth<3.0.0,>=2.14.1->google-api-core>=1.14.0->google-api-core[grpc]>=1.14.0->cirq-google==1.5.0->cirq) (0.6.1)\n",
            "Downloading cirq-1.5.0-py3-none-any.whl (10 kB)\n",
            "Downloading cirq_aqt-1.5.0-py3-none-any.whl (31 kB)\n",
            "Downloading cirq_core-1.5.0-py3-none-any.whl (2.0 MB)\n",
            "\u001b[2K   \u001b[90m━━━━━━━━━━━━━━━━━━━━━━━━━━━━━━━━━━━━━━━━\u001b[0m \u001b[32m2.0/2.0 MB\u001b[0m \u001b[31m24.3 MB/s\u001b[0m eta \u001b[36m0:00:00\u001b[0m\n",
            "\u001b[?25hDownloading cirq_google-1.5.0-py3-none-any.whl (597 kB)\n",
            "\u001b[2K   \u001b[90m━━━━━━━━━━━━━━━━━━━━━━━━━━━━━━━━━━━━━━━━\u001b[0m \u001b[32m597.5/597.5 kB\u001b[0m \u001b[31m27.6 MB/s\u001b[0m eta \u001b[36m0:00:00\u001b[0m\n",
            "\u001b[?25hDownloading cirq_ionq-1.5.0-py3-none-any.whl (72 kB)\n",
            "\u001b[2K   \u001b[90m━━━━━━━━━━━━━━━━━━━━━━━━━━━━━━━━━━━━━━━━\u001b[0m \u001b[32m72.0/72.0 kB\u001b[0m \u001b[31m4.3 MB/s\u001b[0m eta \u001b[36m0:00:00\u001b[0m\n",
            "\u001b[?25hDownloading cirq_pasqal-1.5.0-py3-none-any.whl (33 kB)\n",
            "Downloading cirq_web-1.5.0-py3-none-any.whl (425 kB)\n",
            "\u001b[2K   \u001b[90m━━━━━━━━━━━━━━━━━━━━━━━━━━━━━━━━━━━━━━━━\u001b[0m \u001b[32m425.1/425.1 kB\u001b[0m \u001b[31m25.9 MB/s\u001b[0m eta \u001b[36m0:00:00\u001b[0m\n",
            "\u001b[?25hDownloading duet-0.2.9-py3-none-any.whl (29 kB)\n",
            "Downloading typedunits-0.0.1.dev20250509200845-cp311-cp311-manylinux_2_17_x86_64.manylinux2014_x86_64.whl (2.8 MB)\n",
            "\u001b[2K   \u001b[90m━━━━━━━━━━━━━━━━━━━━━━━━━━━━━━━━━━━━━━━━\u001b[0m \u001b[32m2.8/2.8 MB\u001b[0m \u001b[31m57.4 MB/s\u001b[0m eta \u001b[36m0:00:00\u001b[0m\n",
            "\u001b[?25hInstalling collected packages: typedunits, duet, cirq-core, cirq-web, cirq-pasqal, cirq-ionq, cirq-aqt, cirq-google, cirq\n",
            "Successfully installed cirq-1.5.0 cirq-aqt-1.5.0 cirq-core-1.5.0 cirq-google-1.5.0 cirq-ionq-1.5.0 cirq-pasqal-1.5.0 cirq-web-1.5.0 duet-0.2.9 typedunits-0.0.1.dev20250509200845\n"
          ]
        }
      ],
      "source": [
        "!pip install cirq\n"
      ]
    },
    {
      "cell_type": "code",
      "source": [
        "import cirq\n",
        "q0,q1=cirq.LineQubit.range(2)\n",
        "circuit=cirq.Circuit()#create a circuit\n",
        "circuit.append(cirq.H(q0))#apply hadamard gate to the first qubit\n",
        "circuit.append(cirq.CNOT(q0,q1))#applu cnot gate with q0 as the control qubit and q1 as the target qubit\n",
        "#this step entangles the two qubits\n",
        "#measure both qubits\n",
        "circuit.append(cirq.measure(q0,q1))\n",
        "\n",
        "#simulate the circuit\n",
        "\n",
        "simulator=cirq.Simulator()\n",
        "result1 = simulator.run(circuit,repetitions=20)\n",
        "\n"
      ],
      "metadata": {
        "id": "Ia_TOCEeO0ju"
      },
      "execution_count": null,
      "outputs": []
    },
    {
      "cell_type": "code",
      "source": [
        "print(circuit)\n"
      ],
      "metadata": {
        "colab": {
          "base_uri": "https://localhost:8080/"
        },
        "id": "xATTQVlDPzFO",
        "outputId": "00699836-74b2-4d58-c083-86223b3d9ec2"
      },
      "execution_count": null,
      "outputs": [
        {
          "output_type": "stream",
          "name": "stdout",
          "text": [
            "0: ───H───@───M───\n",
            "          │   │\n",
            "1: ───────X───M───\n"
          ]
        }
      ]
    },
    {
      "cell_type": "code",
      "source": [
        "print(result1)"
      ],
      "metadata": {
        "colab": {
          "base_uri": "https://localhost:8080/"
        },
        "id": "HzJPQNciP5Yl",
        "outputId": "4da9dd4e-85a4-48b5-b765-113ef6466b08"
      },
      "execution_count": null,
      "outputs": [
        {
          "output_type": "stream",
          "name": "stdout",
          "text": [
            "q(0),q(1)=11001100010010110110, 11001100010010110110\n"
          ]
        }
      ]
    },
    {
      "cell_type": "code",
      "source": [
        "\n",
        "\n",
        "import cirq\n",
        "\n",
        "q0,q1=cirq.LineQubit.range(2)\n",
        "\n",
        "simulator=cirq.Simulator()\n",
        "\n",
        "circuit=cirq.Circuit()\n",
        "\n",
        "circuit.append(cirq.H(q0))\n",
        "circuit.append(cirq.CNOT(q0,q1))\n",
        "\n",
        "circuit.append(cirq.Z(q0))\n",
        "\n",
        "circuit.append(cirq.measure(q0,q1,key=\"result\"))\n",
        "\n",
        "result=simulator.run(circuit,repetitions=20)\n",
        "\n",
        "print(circuit)\n",
        "print(result)\n",
        "counts=result.histogram(key=\"result\",fold_func=lambda b: ''.join(str(bit) for bit in b))\n",
        "\n",
        "for outcome,count in counts.items():\n",
        "  print(f\"{outcome}:{count} times\")"
      ],
      "metadata": {
        "colab": {
          "base_uri": "https://localhost:8080/"
        },
        "id": "7SzYo0drdVjI",
        "outputId": "19a46e9e-fbff-46a3-93e3-84dd6d726f46"
      },
      "execution_count": 35,
      "outputs": [
        {
          "output_type": "stream",
          "name": "stdout",
          "text": [
            "0: ───H───@───Z───M('result')───\n",
            "          │       │\n",
            "1: ───────X───────M─────────────\n",
            "result=10100101011010101001, 10100101011010101001\n",
            "11:10 times\n",
            "00:10 times\n"
          ]
        }
      ]
    },
    {
      "cell_type": "code",
      "source": [
        "\n",
        "\n",
        "import cirq\n",
        "\n",
        "q0,q1=cirq.LineQubit.range(2)\n",
        "\n",
        "simulator=cirq.Simulator()\n",
        "\n",
        "circuit=cirq.Circuit()\n",
        "\n",
        "circuit.append(cirq.H(q0))\n",
        "circuit.append(cirq.CNOT(q0,q1))\n",
        "\n",
        "circuit.append(cirq.X(q0))\n",
        "\n",
        "circuit.append(cirq.measure(q0,q1,key=\"result\"))\n",
        "\n",
        "result=simulator.run(circuit,repetitions=20)\n",
        "\n",
        "print(circuit)\n",
        "print(result)\n",
        "counts=result.histogram(key=\"result\",fold_func=lambda b: ''.join(str(bit) for bit in b))\n",
        "\n",
        "for outcome,count in counts.items():\n",
        "  print(f\"{outcome}:{count} times\")"
      ],
      "metadata": {
        "id": "FkERJKfJdlcn",
        "colab": {
          "base_uri": "https://localhost:8080/"
        },
        "outputId": "8a8ba643-10d7-4be5-a005-cd7a7fad3126"
      },
      "execution_count": 36,
      "outputs": [
        {
          "output_type": "stream",
          "name": "stdout",
          "text": [
            "0: ───H───@───X───M('result')───\n",
            "          │       │\n",
            "1: ───────X───────M─────────────\n",
            "result=01110011011100001000, 10001100100011110111\n",
            "01:11 times\n",
            "10:9 times\n"
          ]
        }
      ]
    },
    {
      "cell_type": "code",
      "source": [
        "\n",
        "\n",
        "import cirq\n",
        "\n",
        "q0,q1=cirq.LineQubit.range(2)\n",
        "\n",
        "simulator=cirq.Simulator()\n",
        "\n",
        "circuit=cirq.Circuit()\n",
        "\n",
        "circuit.append(cirq.H(q0))\n",
        "circuit.append(cirq.CNOT(q0,q1))\n",
        "\n",
        "circuit.append(cirq.X (q1))\n",
        "circuit.append(cirq.Z (q0))\n",
        "\n",
        "circuit.append(cirq.measure(q0,q1,key=\"result\"))\n",
        "\n",
        "result=simulator.run(circuit,repetitions=20)\n",
        "\n",
        "print(circuit)\n",
        "print(result)\n",
        "counts=result.histogram(key=\"result\",fold_func=lambda b: ''.join(str(bit) for bit in b))\n",
        "\n",
        "for outcome,count in counts.items():\n",
        "  print(f\"{outcome}:{count} times\")"
      ],
      "metadata": {
        "colab": {
          "base_uri": "https://localhost:8080/"
        },
        "id": "I-FqBaTuufJs",
        "outputId": "da050e99-2457-4ddd-e737-ac779a8552e5"
      },
      "execution_count": 39,
      "outputs": [
        {
          "output_type": "stream",
          "name": "stdout",
          "text": [
            "0: ───H───@───Z───M('result')───\n",
            "          │       │\n",
            "1: ───────X───X───M─────────────\n",
            "result=11010111001101000010, 00101000110010111101\n",
            "10:10 times\n",
            "01:10 times\n"
          ]
        }
      ]
    },
    {
      "cell_type": "code",
      "source": [],
      "metadata": {
        "id": "6YcpROJQutqI"
      },
      "execution_count": null,
      "outputs": []
    }
  ]
}